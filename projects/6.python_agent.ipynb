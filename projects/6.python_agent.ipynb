{
 "cells": [
  {
   "cell_type": "code",
   "execution_count": null,
   "metadata": {},
   "outputs": [
    {
     "ename": "ModuleNotFoundError",
     "evalue": "No module named 'langchain_experimental'",
     "output_type": "error",
     "traceback": [
      "\u001b[1;31m---------------------------------------------------------------------------\u001b[0m",
      "\u001b[1;31mModuleNotFoundError\u001b[0m                       Traceback (most recent call last)",
      "Cell \u001b[1;32mIn[2], line 1\u001b[0m\n\u001b[1;32m----> 1\u001b[0m \u001b[38;5;28;01mfrom\u001b[39;00m \u001b[38;5;21;01mlangchain_experimental\u001b[39;00m\u001b[38;5;21;01m.\u001b[39;00m\u001b[38;5;21;01mtools\u001b[39;00m \u001b[38;5;28;01mimport\u001b[39;00m PythonREPLTool\n",
      "\u001b[1;31mModuleNotFoundError\u001b[0m: No module named 'langchain_experimental'"
     ]
    }
   ],
   "source": [
    "from langchain_experimental.tools import PythonREPLTool"
   ]
  },
  {
   "cell_type": "code",
   "execution_count": 1,
   "metadata": {},
   "outputs": [],
   "source": [
    "from langchain_experimental.tools import PythonREPLTool\n",
    "from dotenv import load_dotenv\n",
    "from langchain.agents import AgentType, initialize_agent, Tool\n",
    "from langchain_experimental.agents.agent_toolkits import create_python_agent\n",
    "from langchain_experimental.agents.agent_toolkits import create_csv_agent\n",
    "from langchain_experimental.agents.agent_toolkits import create_pandas_dataframe_agent\n",
    "from langchain.chat_models import ChatOpenAI\n",
    "from langchain_experimental.tools import PythonREPLTool\n",
    "import pandas as pd\n",
    "import os\n",
    "#load variable from .env\n",
    "load_dotenv()  \n",
    "openai_api_key = os.getenv('OPENAI_API_KEY')"
   ]
  },
  {
   "cell_type": "code",
   "execution_count": 11,
   "metadata": {},
   "outputs": [],
   "source": [
    "# Define the data as a list of lists\n",
    "data = [\n",
    "    [10001, '1953-09-02', 'Georgi', 'Facello', 'M', '1986-06-26'],\n",
    "    [10002, '1964-06-02', 'Bezalel', 'Simmel', 'F', '1985-11-21'],\n",
    "    [10003, '1959-12-03', 'Parto', 'Bamford', 'M', '1986-08-28'],\n",
    "    [10004, '1954-05-01', 'Chirstian', 'Koblick', 'M', '1986-12-01'],\n",
    "    [10005, '1955-01-21', 'Kyoichi', 'Maliniak', 'M', '1989-09-12'],\n",
    "    [10006, '1953-04-20', 'Anneke', 'Preusig', 'F', '1989-06-02'],\n",
    "    [10007, '1957-05-23', 'Tzvetan', 'Zielinski', 'F', '1989-02-10'],\n",
    "    [10008, '1958-02-19', 'Saniya', 'Kalloufi', 'M', '1994-09-15'],\n",
    "    [10009, '1952-04-19', 'Sumant', 'Peac', 'F', '1985-02-18'],\n",
    "    [10010, '1963-06-01', 'Duangkaew', 'Piveteau', 'F', '1989-08-24']\n",
    "]\n",
    "\n",
    "# Define the column names\n",
    "columns = ['emp_no', 'birth_date', 'first_name', 'last_name', 'gender', 'hire_date']\n",
    "\n",
    "# Create the DataFrame\n",
    "df = pd.DataFrame(data, columns=columns)\n",
    "dataframe = df"
   ]
  },
  {
   "cell_type": "code",
   "execution_count": 14,
   "metadata": {},
   "outputs": [
    {
     "name": "stdout",
     "output_type": "stream",
     "text": [
      "Start agent execution...\n",
      "\n",
      "\n",
      "\u001b[1m> Entering new AgentExecutor chain...\u001b[0m\n",
      "\u001b[32;1m\u001b[1;3mI need to calculate the count of each gender in the provided dataframe.\n",
      "Action: PandasAgent\n",
      "Action Input: from the data frame provide which gender has the highest number?\u001b[0m\n",
      "\n",
      "\u001b[1m> Entering new AgentExecutor chain...\u001b[0m\n",
      "\u001b[32;1m\u001b[1;3mThought: To find out which gender has the highest number, I need to count the number of occurrences of each gender in the 'gender' column.\n",
      "Action: python_repl_ast\n",
      "Action Input: df['gender'].value_counts()\u001b[0m\n",
      "Observation: \u001b[36;1m\u001b[1;3mgender\n",
      "M    5\n",
      "F    5\n",
      "Name: count, dtype: int64\u001b[0m\n",
      "Thought:\u001b[32;1m\u001b[1;3mThe count of both genders 'M' and 'F' is the same in the dataframe. \n",
      "Final Answer: Both genders 'M' and 'F' have the same count.\u001b[0m\n",
      "\n",
      "\u001b[1m> Finished chain.\u001b[0m\n",
      "\n",
      "Observation: \u001b[38;5;200m\u001b[1;3mBoth genders 'M' and 'F' have the same count.\u001b[0m\n",
      "Thought:\u001b[32;1m\u001b[1;3mI now know the final answer\n",
      "Final Answer: Both genders 'M' and 'F' have the same count.\u001b[0m\n",
      "\n",
      "\u001b[1m> Finished chain.\u001b[0m\n"
     ]
    }
   ],
   "source": [
    "def main():\n",
    "    print(\"Start agent execution...\")\n",
    "    python_agent_executor = create_python_agent(\n",
    "        llm=ChatOpenAI(temperature=0, model=\"gpt-4\", api_key = openai_api_key),\n",
    "        tool=PythonREPLTool(),\n",
    "        agent_type= AgentType.ZERO_SHOT_REACT_DESCRIPTION,\n",
    "        verbose=True,\n",
    "        handle_parsing_errors=True,\n",
    "    )\n",
    "    \n",
    "    csv_agent = create_csv_agent(\n",
    "        llm=ChatOpenAI(temperature=0, model=\"gpt-4\", api_key = openai_api_key),\n",
    "        path = r\"C:\\Users\\(Ai)AiSukmoren\\Desktop\\langchain_demo\\doc\\episode_info.csv\",\n",
    "        agent_type = AgentType.ZERO_SHOT_REACT_DESCRIPTION,\n",
    "        verbose=True,\n",
    "        handle_parsing_errors=True,\n",
    "    )\n",
    "    \n",
    "    pandas_agent = create_pandas_dataframe_agent(\n",
    "        llm=ChatOpenAI(temperature=0, model=\"gpt-4\", api_key = openai_api_key),\n",
    "        agent_type=AgentType.ZERO_SHOT_REACT_DESCRIPTION,\n",
    "        df = dataframe,\n",
    "        verbose=True,\n",
    "        handle_parsing_errors=True,\n",
    "    )\n",
    "    \n",
    "    grand_agent = initialize_agent(\n",
    "        tools=[\n",
    "            Tool(\n",
    "                name=\"PythonAgent\",\n",
    "                func=python_agent_executor.run,\n",
    "                description=\"\"\"useful when you need to transform natural language and write from it python and execute the python code,\n",
    "                              returning the results of the code execution,\n",
    "                            DO NOT SEND PYTHON CODE TO THIS TOOL\"\"\",\n",
    "            ),\n",
    "            Tool(\n",
    "                name=\"CSVAgent\",\n",
    "                func=csv_agent.run,\n",
    "                description=\"\"\"useful when you need to answer question over episode_info.csv fileepisode_info.csv file,\n",
    "                             takes an input the entire question and returns the answer after running pandas calculations\"\"\",\n",
    "            ),\n",
    "            Tool(\n",
    "                name=\"PandasAgent\",\n",
    "                func=pandas_agent.run,\n",
    "                description=\"\"\"useful when you need to answer question over pandas dataframe that was provide by the name df,\n",
    "                             takes an input the entire question and returns the answer after running pandas calculations\"\"\",\n",
    "            ),\n",
    "        ],\n",
    "        llm=ChatOpenAI(temperature=0, model=\"gpt-4\"),\n",
    "        agent_type=AgentType.OPENAI_FUNCTIONS,\n",
    "        verbose=True,\n",
    "        handle_parsing_errors=True,\n",
    "    )\n",
    "    \n",
    "    grand_agent.run(\n",
    "     \"\"\"from the data frame provide which gender has the highest number?\n",
    "     \"\"\")\n",
    "\n",
    "if __name__ == \"__main__\":\n",
    "    main()"
   ]
  }
 ],
 "metadata": {
  "kernelspec": {
   "display_name": "project1",
   "language": "python",
   "name": "python3"
  },
  "language_info": {
   "codemirror_mode": {
    "name": "ipython",
    "version": 3
   },
   "file_extension": ".py",
   "mimetype": "text/x-python",
   "name": "python",
   "nbconvert_exporter": "python",
   "pygments_lexer": "ipython3",
   "version": "3.11.5"
  }
 },
 "nbformat": 4,
 "nbformat_minor": 2
}
