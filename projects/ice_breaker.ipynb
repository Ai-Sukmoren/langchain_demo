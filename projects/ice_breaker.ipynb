{
 "cells": [
  {
   "cell_type": "code",
   "execution_count": 4,
   "metadata": {},
   "outputs": [
    {
     "name": "stdout",
     "output_type": "stream",
     "text": [
      "As an AI, I'm unable to access files or documents. However, I can provide a short summary and interesting facts about Elon Musk based on the information I have.\n",
      "\n",
      "1. Short Summary:\n",
      "Elon Musk is a billionaire entrepreneur, inventor, and business magnate. He is the CEO, CTO, and chief designer of SpaceX; early investor, CEO and product architect of Tesla, Inc.; founder of The Boring Company; co-founder of Neuralink; and co-founder and initial co-chairman of OpenAI. Musk is known for his vision to change the world and humanity, with projects ranging from electric vehicles, to renewable energy, to space travel.\n",
      "\n",
      "2. Interesting Facts:\n",
      "   - Elon Musk taught himself computer programming at the age of 12 and sold the code of a video game he created for $500.\n",
      "   - Musk aims to reduce the risk of human extinction by establishing a human colony on Mars. His company SpaceX is developing the technology to make this possible.\n"
     ]
    }
   ],
   "source": [
    "from langchain import PromptTemplate\n",
    "from langchain.chat_models import ChatOpenAI\n",
    "from langchain.chains import LLMChain\n",
    "from dotenv import load_dotenv\n",
    "import os\n",
    "#load variable from .env\n",
    "load_dotenv()  \n",
    "\n",
    "openai_api_key = os.getenv('OPEN_AI_API')\n",
    "\n",
    "information = \"doc\\Elon_mush.txt\"\n",
    "\n",
    "summary_templates = \"\"\"\n",
    "    given the information {information} about a person from I want you to create\n",
    "    1. a short summary\n",
    "    2. two interesting facts about them\n",
    "    \"\"\"\n",
    "\n",
    "summary_prompts_template = PromptTemplate(input_variables=[\"information\"], template = summary_templates)\n",
    "\n",
    "llm = ChatOpenAI(temperature= 0, model_name=\"gpt-4\",api_key=openai_api_key)\n",
    "\n",
    "chain = LLMChain(llm=llm, prompt=summary_prompts_template) \n",
    "\n",
    "print(chain.run(information=information))    "
   ]
  }
 ],
 "metadata": {
  "kernelspec": {
   "display_name": "test",
   "language": "python",
   "name": "python3"
  },
  "language_info": {
   "codemirror_mode": {
    "name": "ipython",
    "version": 3
   },
   "file_extension": ".py",
   "mimetype": "text/x-python",
   "name": "python",
   "nbconvert_exporter": "python",
   "pygments_lexer": "ipython3",
   "version": "3.11.5"
  }
 },
 "nbformat": 4,
 "nbformat_minor": 2
}
