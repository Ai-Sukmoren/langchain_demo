{
 "cells": [
  {
   "cell_type": "markdown",
   "metadata": {},
   "source": [
    "## model\n",
    "- BRISQUE\n",
    "- hyperiqa\n",
    "- ilniqe\n",
    "- niqe"
   ]
  },
  {
   "cell_type": "code",
   "execution_count": 2,
   "metadata": {},
   "outputs": [
    {
     "name": "stdout",
     "output_type": "stream",
     "text": [
      "Loading pretrained model TReS from C:\\Users\\(Ai)AiSukmoren\\.cache\\torch\\hub\\checkpoints\\tres_koniq-f0502926.pth\n"
     ]
    },
    {
     "name": "stderr",
     "output_type": "stream",
     "text": [
      "tres of 000019.jpg: 74.67933654785156:  50%|█████     | 1/2 [00:32<00:32, 32.20s/image]"
     ]
    },
    {
     "name": "stdout",
     "output_type": "stream",
     "text": [
      "tres of 000019.jpg: 74.67933654785156\n"
     ]
    },
    {
     "name": "stderr",
     "output_type": "stream",
     "text": [
      "tres of 000020.jpg: 67.10346984863281: 100%|██████████| 2/2 [01:04<00:00, 32.18s/image]"
     ]
    },
    {
     "name": "stdout",
     "output_type": "stream",
     "text": [
      "tres of 000020.jpg: 67.10346984863281\n",
      "Average tres score of C:\\Users\\(Ai)AiSukmoren\\Desktop\\slim-ChatGPT\\pics with 2 images is: 70.89140319824219\n",
      "Done! Results are in quality_assessment_results.csv.\n"
     ]
    },
    {
     "name": "stderr",
     "output_type": "stream",
     "text": [
      "\n"
     ]
    }
   ],
   "source": [
    "import glob\n",
    "import os\n",
    "from pyiqa import create_metric\n",
    "from tqdm import tqdm\n",
    "import csv\n",
    "\n",
    "def main():\n",
    "    # Manually set arguments\n",
    "    input_path = r'C:\\Users\\(Ai)AiSukmoren\\Desktop\\slim-ChatGPT\\pics'\n",
    "    ref_path = None  #r'C:\\Users\\(Ai)AiSukmoren\\Desktop\\slim-ChatGPT\\pics'  # set this if you use FR metrics\n",
    "    metric_mode = 'NR'  # or 'FR' if you have a reference\n",
    "    metric_name = 'TRES'\n",
    "    save_file = 'quality_assessment_results.csv'\n",
    "\n",
    "    metric_name = metric_name.lower()\n",
    "\n",
    "    # set up IQA model\n",
    "    iqa_model = create_metric(metric_name, metric_mode=metric_mode)\n",
    "    metric_mode = iqa_model.metric_mode\n",
    "\n",
    "    if os.path.isfile(input_path):\n",
    "        input_paths = [input_path]\n",
    "        if ref_path is not None:\n",
    "            ref_paths = [ref_path]\n",
    "    else:\n",
    "        input_paths = sorted(glob.glob(os.path.join(input_path, '*')))\n",
    "        if ref_path is not None:\n",
    "            ref_paths = sorted(glob.glob(os.path.join(input_path, '*')))\n",
    "    # if save file contain file path \n",
    "    if save_file:\n",
    "        sf = open(save_file, 'w')\n",
    "        sfwriter = csv.writer(sf)\n",
    "\n",
    "    avg_score = 0\n",
    "    test_img_num = len(input_paths)\n",
    "    if metric_name != 'fid':\n",
    "        pbar = tqdm(total=test_img_num, unit='image')\n",
    "        for idx, img_path in enumerate(input_paths):\n",
    "            img_name = os.path.basename(img_path)\n",
    "            if metric_mode == 'FR':\n",
    "                ref_img_path = ref_paths[idx]\n",
    "            else:\n",
    "                ref_img_path = None\n",
    "\n",
    "            score = iqa_model(img_path, ref_img_path).cpu().item()\n",
    "            avg_score += score\n",
    "            pbar.update(1)\n",
    "            pbar.set_description(f'{metric_name} of {img_name}: {score}')\n",
    "            pbar.write(f'{metric_name} of {img_name}: {score}')\n",
    "            if save_file:\n",
    "                sfwriter.writerow([img_name, score])\n",
    "            \n",
    "        pbar.close()\n",
    "        avg_score /= test_img_num\n",
    "    else:\n",
    "        assert os.path.isdir(input_path), 'input path must be a folder for FID.'\n",
    "        avg_score = iqa_model(input_path, ref_path)\n",
    "    \n",
    "    msg = f'Average {metric_name} score of {input_path} with {test_img_num} images is: {avg_score}'\n",
    "    print(msg)\n",
    "    if save_file:\n",
    "        sf.close()\n",
    "\n",
    "    if save_file:\n",
    "        print(f'Done! Results are in {save_file}.')\n",
    "    else:\n",
    "        print(f'Done!')\n",
    "\n",
    "\n",
    "if __name__ == '__main__':\n",
    "    main()"
   ]
  }
 ],
 "metadata": {
  "kernelspec": {
   "display_name": "project1",
   "language": "python",
   "name": "python3"
  },
  "language_info": {
   "codemirror_mode": {
    "name": "ipython",
    "version": 3
   },
   "file_extension": ".py",
   "mimetype": "text/x-python",
   "name": "python",
   "nbconvert_exporter": "python",
   "pygments_lexer": "ipython3",
   "version": "3.11.5"
  }
 },
 "nbformat": 4,
 "nbformat_minor": 2
}
